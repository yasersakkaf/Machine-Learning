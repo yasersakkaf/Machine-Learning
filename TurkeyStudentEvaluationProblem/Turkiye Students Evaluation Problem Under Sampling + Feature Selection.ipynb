{
 "cells": [
  {
   "cell_type": "code",
   "execution_count": 1,
   "metadata": {},
   "outputs": [],
   "source": [
    "# required imports\n",
    "\n",
    "import numpy as np\n",
    "import pandas as pd\n",
    "import seaborn as sn\n",
    "import matplotlib.pyplot as plt\n",
    "from sklearn.tree import DecisionTreeClassifier\n",
    "from sklearn.ensemble import RandomForestClassifier\n",
    "from sklearn import svm\n",
    "from xgboost import XGBClassifier\n",
    "from sklearn.model_selection import train_test_split\n",
    "from sklearn.metrics import classification_report\n",
    "from sklearn.metrics import confusion_matrix\n",
    "from sklearn.metrics import accuracy_score\n",
    "from imblearn.under_sampling import ClusterCentroids\n",
    "from sklearn.naive_bayes import GaussianNB\n",
    "from sklearn.model_selection import cross_val_score"
   ]
  },
  {
   "cell_type": "code",
   "execution_count": 2,
   "metadata": {},
   "outputs": [
    {
     "data": {
      "text/html": [
       "<div>\n",
       "<style scoped>\n",
       "    .dataframe tbody tr th:only-of-type {\n",
       "        vertical-align: middle;\n",
       "    }\n",
       "\n",
       "    .dataframe tbody tr th {\n",
       "        vertical-align: top;\n",
       "    }\n",
       "\n",
       "    .dataframe thead th {\n",
       "        text-align: right;\n",
       "    }\n",
       "</style>\n",
       "<table border=\"1\" class=\"dataframe\">\n",
       "  <thead>\n",
       "    <tr style=\"text-align: right;\">\n",
       "      <th></th>\n",
       "      <th>instr</th>\n",
       "      <th>class</th>\n",
       "      <th>nb.repeat</th>\n",
       "      <th>attendance</th>\n",
       "      <th>difficulty</th>\n",
       "      <th>Q1</th>\n",
       "      <th>Q2</th>\n",
       "      <th>Q3</th>\n",
       "      <th>Q4</th>\n",
       "      <th>Q5</th>\n",
       "      <th>...</th>\n",
       "      <th>Q19</th>\n",
       "      <th>Q20</th>\n",
       "      <th>Q21</th>\n",
       "      <th>Q22</th>\n",
       "      <th>Q23</th>\n",
       "      <th>Q24</th>\n",
       "      <th>Q25</th>\n",
       "      <th>Q26</th>\n",
       "      <th>Q27</th>\n",
       "      <th>Q28</th>\n",
       "    </tr>\n",
       "  </thead>\n",
       "  <tbody>\n",
       "    <tr>\n",
       "      <th>0</th>\n",
       "      <td>1</td>\n",
       "      <td>2</td>\n",
       "      <td>1</td>\n",
       "      <td>0</td>\n",
       "      <td>4</td>\n",
       "      <td>3</td>\n",
       "      <td>3</td>\n",
       "      <td>3</td>\n",
       "      <td>3</td>\n",
       "      <td>3</td>\n",
       "      <td>...</td>\n",
       "      <td>3</td>\n",
       "      <td>3</td>\n",
       "      <td>3</td>\n",
       "      <td>3</td>\n",
       "      <td>3</td>\n",
       "      <td>3</td>\n",
       "      <td>3</td>\n",
       "      <td>3</td>\n",
       "      <td>3</td>\n",
       "      <td>3</td>\n",
       "    </tr>\n",
       "    <tr>\n",
       "      <th>1</th>\n",
       "      <td>1</td>\n",
       "      <td>2</td>\n",
       "      <td>1</td>\n",
       "      <td>1</td>\n",
       "      <td>3</td>\n",
       "      <td>3</td>\n",
       "      <td>3</td>\n",
       "      <td>3</td>\n",
       "      <td>3</td>\n",
       "      <td>3</td>\n",
       "      <td>...</td>\n",
       "      <td>3</td>\n",
       "      <td>3</td>\n",
       "      <td>3</td>\n",
       "      <td>3</td>\n",
       "      <td>3</td>\n",
       "      <td>3</td>\n",
       "      <td>3</td>\n",
       "      <td>3</td>\n",
       "      <td>3</td>\n",
       "      <td>3</td>\n",
       "    </tr>\n",
       "    <tr>\n",
       "      <th>2</th>\n",
       "      <td>1</td>\n",
       "      <td>2</td>\n",
       "      <td>1</td>\n",
       "      <td>2</td>\n",
       "      <td>4</td>\n",
       "      <td>5</td>\n",
       "      <td>5</td>\n",
       "      <td>5</td>\n",
       "      <td>5</td>\n",
       "      <td>5</td>\n",
       "      <td>...</td>\n",
       "      <td>5</td>\n",
       "      <td>5</td>\n",
       "      <td>5</td>\n",
       "      <td>5</td>\n",
       "      <td>5</td>\n",
       "      <td>5</td>\n",
       "      <td>5</td>\n",
       "      <td>5</td>\n",
       "      <td>5</td>\n",
       "      <td>5</td>\n",
       "    </tr>\n",
       "    <tr>\n",
       "      <th>3</th>\n",
       "      <td>1</td>\n",
       "      <td>2</td>\n",
       "      <td>1</td>\n",
       "      <td>1</td>\n",
       "      <td>3</td>\n",
       "      <td>3</td>\n",
       "      <td>3</td>\n",
       "      <td>3</td>\n",
       "      <td>3</td>\n",
       "      <td>3</td>\n",
       "      <td>...</td>\n",
       "      <td>3</td>\n",
       "      <td>3</td>\n",
       "      <td>3</td>\n",
       "      <td>3</td>\n",
       "      <td>3</td>\n",
       "      <td>3</td>\n",
       "      <td>3</td>\n",
       "      <td>3</td>\n",
       "      <td>3</td>\n",
       "      <td>3</td>\n",
       "    </tr>\n",
       "    <tr>\n",
       "      <th>4</th>\n",
       "      <td>1</td>\n",
       "      <td>2</td>\n",
       "      <td>1</td>\n",
       "      <td>0</td>\n",
       "      <td>1</td>\n",
       "      <td>1</td>\n",
       "      <td>1</td>\n",
       "      <td>1</td>\n",
       "      <td>1</td>\n",
       "      <td>1</td>\n",
       "      <td>...</td>\n",
       "      <td>1</td>\n",
       "      <td>1</td>\n",
       "      <td>1</td>\n",
       "      <td>1</td>\n",
       "      <td>1</td>\n",
       "      <td>1</td>\n",
       "      <td>1</td>\n",
       "      <td>1</td>\n",
       "      <td>1</td>\n",
       "      <td>1</td>\n",
       "    </tr>\n",
       "  </tbody>\n",
       "</table>\n",
       "<p>5 rows × 33 columns</p>\n",
       "</div>"
      ],
      "text/plain": [
       "   instr  class  nb.repeat  attendance  difficulty  Q1  Q2  Q3  Q4  Q5  ...  \\\n",
       "0      1      2          1           0           4   3   3   3   3   3  ...   \n",
       "1      1      2          1           1           3   3   3   3   3   3  ...   \n",
       "2      1      2          1           2           4   5   5   5   5   5  ...   \n",
       "3      1      2          1           1           3   3   3   3   3   3  ...   \n",
       "4      1      2          1           0           1   1   1   1   1   1  ...   \n",
       "\n",
       "   Q19  Q20  Q21  Q22  Q23  Q24  Q25  Q26  Q27  Q28  \n",
       "0    3    3    3    3    3    3    3    3    3    3  \n",
       "1    3    3    3    3    3    3    3    3    3    3  \n",
       "2    5    5    5    5    5    5    5    5    5    5  \n",
       "3    3    3    3    3    3    3    3    3    3    3  \n",
       "4    1    1    1    1    1    1    1    1    1    1  \n",
       "\n",
       "[5 rows x 33 columns]"
      ]
     },
     "execution_count": 2,
     "metadata": {},
     "output_type": "execute_result"
    }
   ],
   "source": [
    "# Read and preview the data\n",
    "\n",
    "df = pd.read_csv('turkiye-student-evaluation_generic.csv')\n",
    "df.head()"
   ]
  },
  {
   "cell_type": "code",
   "execution_count": 3,
   "metadata": {},
   "outputs": [
    {
     "data": {
      "text/plain": [
       "1    4909\n",
       "2     576\n",
       "3     335\n",
       "Name: nb.repeat, dtype: int64"
      ]
     },
     "execution_count": 3,
     "metadata": {},
     "output_type": "execute_result"
    }
   ],
   "source": [
    "# count the target variable\n",
    "# we can see that it is highly imbalanced\n",
    "\n",
    "df['nb.repeat'].value_counts()"
   ]
  },
  {
   "cell_type": "code",
   "execution_count": 4,
   "metadata": {},
   "outputs": [],
   "source": [
    "# Drop the question columns except 1 and 11 (viewed as important features from methods below)\n",
    "# rest all are correlated\n",
    "\n",
    "Q_columns = ['Q' + str(x) for x in range(1, 29) if x not in [1,2,12]]\n",
    "df_dropped = df.drop(Q_columns, axis=1)"
   ]
  },
  {
   "cell_type": "code",
   "execution_count": 5,
   "metadata": {},
   "outputs": [],
   "source": [
    "# Separate features and target column\n",
    "\n",
    "X = df_dropped.drop(['nb.repeat'], axis=1)\n",
    "y = df_dropped['nb.repeat']"
   ]
  },
  {
   "cell_type": "code",
   "execution_count": 6,
   "metadata": {},
   "outputs": [],
   "source": [
    "# Train and test split\n",
    "\n",
    "X_train, X_test, y_train, y_test = train_test_split(X, y, test_size=0.3, stratify=y)"
   ]
  },
  {
   "cell_type": "code",
   "execution_count": 7,
   "metadata": {},
   "outputs": [
    {
     "data": {
      "text/plain": [
       "DecisionTreeClassifier(ccp_alpha=0.0, class_weight='balanced', criterion='gini',\n",
       "                       max_depth=None, max_features=None, max_leaf_nodes=None,\n",
       "                       min_impurity_decrease=0.0, min_impurity_split=None,\n",
       "                       min_samples_leaf=1, min_samples_split=2,\n",
       "                       min_weight_fraction_leaf=0.0, presort='deprecated',\n",
       "                       random_state=None, splitter='best')"
      ]
     },
     "execution_count": 7,
     "metadata": {},
     "output_type": "execute_result"
    }
   ],
   "source": [
    "# Use Decision trees and view important features\n",
    "\n",
    "dt_clf = DecisionTreeClassifier(class_weight='balanced')\n",
    "dt_clf.fit(X_train, y_train)"
   ]
  },
  {
   "cell_type": "code",
   "execution_count": 8,
   "metadata": {},
   "outputs": [
    {
     "data": {
      "image/png": "[encoded data removed]",
      "text/plain": [
       "<Figure size 432x288 with 1 Axes>"
      ]
     },
     "metadata": {
      "needs_background": "light"
     },
     "output_type": "display_data"
    }
   ],
   "source": [
    "X = df.drop(['nb.repeat'], axis=1)\n",
    "y = df['nb.repeat']\n",
    "clf = DecisionTreeClassifier(class_weight='balanced', random_state=40)\n",
    "clf.fit(X, y)\n",
    "\n",
    "# Visualize feature importance\n",
    "\n",
    "importances = clf.feature_importances_\n",
    "\n",
    "# Sort feature importances in descending order\n",
    "indices = np.argsort(importances)[::-1]\n",
    "\n",
    "# Rearrange feature names so they match the sorted feature importances\n",
    "names = [X.columns[i] for i in indices]\n",
    "\n",
    "# Create plot\n",
    "plt.figure()\n",
    "\n",
    "# Create plot title\n",
    "plt.title(\"Feature Importance\")\n",
    "\n",
    "# Add bars\n",
    "plt.bar(range(X.shape[1]), importances[indices])\n",
    "\n",
    "# Add feature names as x-axis labels\n",
    "plt.xticks(range(X.shape[1]), names, rotation=90)\n",
    "\n",
    "# Show plot\n",
    "plt.show()"
   ]
  },
  {
   "cell_type": "code",
   "execution_count": 9,
   "metadata": {},
   "outputs": [
    {
     "name": "stdout",
     "output_type": "stream",
     "text": [
      "              precision    recall  f1-score   support\n",
      "\n",
      "           1       0.99      0.81      0.89      3436\n",
      "           2       0.51      0.88      0.65       403\n",
      "           3       0.38      0.93      0.54       235\n",
      "\n",
      "    accuracy                           0.82      4074\n",
      "   macro avg       0.63      0.88      0.69      4074\n",
      "weighted avg       0.91      0.82      0.85      4074\n",
      "\n",
      "0.8244968090328915\n"
     ]
    }
   ],
   "source": [
    "# Training Reports\n",
    "\n",
    "y_pred_train = dt_clf.predict(X_train)\n",
    "print(classification_report(y_train, y_pred_train))\n",
    "print(accuracy_score(y_train, y_pred_train))"
   ]
  },
  {
   "cell_type": "code",
   "execution_count": 10,
   "metadata": {},
   "outputs": [
    {
     "name": "stdout",
     "output_type": "stream",
     "text": [
      "              precision    recall  f1-score   support\n",
      "\n",
      "           1       0.89      0.72      0.80      1473\n",
      "           2       0.19      0.32      0.24       173\n",
      "           3       0.10      0.26      0.15       100\n",
      "\n",
      "    accuracy                           0.66      1746\n",
      "   macro avg       0.39      0.43      0.39      1746\n",
      "weighted avg       0.77      0.66      0.70      1746\n",
      "\n",
      "0.6563573883161512\n"
     ]
    }
   ],
   "source": [
    "# Testing Reports\n",
    "\n",
    "y_pred = dt_clf.predict(X_test)\n",
    "print(classification_report(y_test, y_pred))\n",
    "print(accuracy_score(y_test, y_pred))"
   ]
  },
  {
   "cell_type": "code",
   "execution_count": 11,
   "metadata": {},
   "outputs": [
    {
     "data": {
      "text/plain": [
       "RandomForestClassifier(bootstrap=True, ccp_alpha=0.0, class_weight='balanced',\n",
       "                       criterion='gini', max_depth=None, max_features='auto',\n",
       "                       max_leaf_nodes=None, max_samples=None,\n",
       "                       min_impurity_decrease=0.0, min_impurity_split=None,\n",
       "                       min_samples_leaf=1, min_samples_split=2,\n",
       "                       min_weight_fraction_leaf=0.0, n_estimators=100,\n",
       "                       n_jobs=None, oob_score=False, random_state=None,\n",
       "                       verbose=0, warm_start=False)"
      ]
     },
     "execution_count": 11,
     "metadata": {},
     "output_type": "execute_result"
    }
   ],
   "source": [
    "# Use Random Forest\n",
    "\n",
    "rf_clf = RandomForestClassifier(class_weight='balanced')\n",
    "rf_clf.fit(X_train, y_train)"
   ]
  },
  {
   "cell_type": "code",
   "execution_count": 12,
   "metadata": {},
   "outputs": [
    {
     "data": {
      "image/png": "[encoded data removed]",
      "text/plain": [
       "<Figure size 432x288 with 1 Axes>"
      ]
     },
     "metadata": {
      "needs_background": "light"
     },
     "output_type": "display_data"
    }
   ],
   "source": [
    "# Visualize important features\n",
    "\n",
    "X = df.drop(['nb.repeat'], axis=1)\n",
    "y = df['nb.repeat']\n",
    "clf = RandomForestClassifier(class_weight='balanced', random_state=40)\n",
    "clf.fit(X, y)\n",
    "\n",
    "\n",
    "importances = clf.feature_importances_\n",
    "\n",
    "# Sort feature importances in descending order\n",
    "indices = np.argsort(importances)[::-1]\n",
    "\n",
    "# Rearrange feature names so they match the sorted feature importances\n",
    "names = [X.columns[i] for i in indices]\n",
    "\n",
    "# Create plot\n",
    "plt.figure()\n",
    "\n",
    "# Create plot title\n",
    "plt.title(\"Feature Importance\")\n",
    "\n",
    "# Add bars\n",
    "plt.bar(range(X.shape[1]), importances[indices])\n",
    "\n",
    "# Add feature names as x-axis labels\n",
    "plt.xticks(range(X.shape[1]), names, rotation=90)\n",
    "\n",
    "# Show plot\n",
    "plt.show()"
   ]
  },
  {
   "cell_type": "code",
   "execution_count": 13,
   "metadata": {},
   "outputs": [
    {
     "name": "stdout",
     "output_type": "stream",
     "text": [
      "              precision    recall  f1-score   support\n",
      "\n",
      "           1       0.98      0.87      0.92      3436\n",
      "           2       0.60      0.83      0.69       403\n",
      "           3       0.44      0.87      0.58       235\n",
      "\n",
      "    accuracy                           0.87      4074\n",
      "   macro avg       0.67      0.86      0.73      4074\n",
      "weighted avg       0.91      0.87      0.88      4074\n",
      "\n",
      "0.8669612174766814\n"
     ]
    }
   ],
   "source": [
    "# View its training performance\n",
    "\n",
    "y_pred_train = rf_clf.predict(X_train)\n",
    "print(classification_report(y_train, y_pred_train))\n",
    "print(accuracy_score(y_train, y_pred_train))"
   ]
  },
  {
   "cell_type": "code",
   "execution_count": 14,
   "metadata": {},
   "outputs": [
    {
     "name": "stdout",
     "output_type": "stream",
     "text": [
      "              precision    recall  f1-score   support\n",
      "\n",
      "           1       0.88      0.83      0.86      1473\n",
      "           2       0.25      0.27      0.26       173\n",
      "           3       0.13      0.23      0.17       100\n",
      "\n",
      "    accuracy                           0.74      1746\n",
      "   macro avg       0.42      0.44      0.43      1746\n",
      "weighted avg       0.78      0.74      0.76      1746\n",
      "\n",
      "0.7394043528064147\n"
     ]
    }
   ],
   "source": [
    "# View testing accuracy\n",
    "\n",
    "y_pred = rf_clf.predict(X_test)\n",
    "print(classification_report(y_test, y_pred))\n",
    "print(accuracy_score(y_test, y_pred))"
   ]
  },
  {
   "cell_type": "code",
   "execution_count": 15,
   "metadata": {},
   "outputs": [
    {
     "name": "stderr",
     "output_type": "stream",
     "text": [
      "/home/yaser/anaconda3/envs/MLPracs/lib/python3.7/site-packages/sklearn/svm/_base.py:947: ConvergenceWarning: Liblinear failed to converge, increase the number of iterations.\n",
      "  \"the number of iterations.\", ConvergenceWarning)\n"
     ]
    },
    {
     "data": {
      "text/plain": [
       "LinearSVC(C=1.0, class_weight='balanced', dual=True, fit_intercept=True,\n",
       "          intercept_scaling=1, loss='squared_hinge', max_iter=1000,\n",
       "          multi_class='ovr', penalty='l2', random_state=None, tol=0.0001,\n",
       "          verbose=0)"
      ]
     },
     "execution_count": 15,
     "metadata": {},
     "output_type": "execute_result"
    }
   ],
   "source": [
    "# Implement SVM\n",
    "\n",
    "svm_clf = svm.LinearSVC(class_weight='balanced', multi_class='ovr')\n",
    "svm_clf.fit(X_train, y_train)"
   ]
  },
  {
   "cell_type": "code",
   "execution_count": 16,
   "metadata": {},
   "outputs": [
    {
     "name": "stdout",
     "output_type": "stream",
     "text": [
      "              precision    recall  f1-score   support\n",
      "\n",
      "           1       0.85      0.98      0.91      3436\n",
      "           2       0.08      0.01      0.01       403\n",
      "           3       0.22      0.05      0.08       235\n",
      "\n",
      "    accuracy                           0.83      4074\n",
      "   macro avg       0.38      0.35      0.34      4074\n",
      "weighted avg       0.74      0.83      0.77      4074\n",
      "\n",
      "0.8325969563082966\n"
     ]
    }
   ],
   "source": [
    "# View its training performance\n",
    "\n",
    "y_pred_train = svm_clf.predict(X_train)\n",
    "print(classification_report(y_train, y_pred_train))\n",
    "print(accuracy_score(y_train, y_pred_train))"
   ]
  },
  {
   "cell_type": "code",
   "execution_count": 17,
   "metadata": {},
   "outputs": [
    {
     "name": "stdout",
     "output_type": "stream",
     "text": [
      "              precision    recall  f1-score   support\n",
      "\n",
      "           1       0.85      0.99      0.91      1473\n",
      "           2       0.29      0.03      0.05       173\n",
      "           3       0.26      0.07      0.11       100\n",
      "\n",
      "    accuracy                           0.84      1746\n",
      "   macro avg       0.47      0.36      0.36      1746\n",
      "weighted avg       0.76      0.84      0.78      1746\n",
      "\n",
      "0.8379152348224513\n"
     ]
    }
   ],
   "source": [
    "# View its testing performance\n",
    "\n",
    "y_pred = svm_clf.predict(X_test)\n",
    "print(classification_report(y_test, y_pred))\n",
    "print(accuracy_score(y_test, y_pred))"
   ]
  },
  {
   "cell_type": "code",
   "execution_count": 18,
   "metadata": {},
   "outputs": [
    {
     "data": {
      "text/plain": [
       "XGBClassifier(base_score=0.5, booster='gbtree', colsample_bylevel=1,\n",
       "              colsample_bynode=1, colsample_bytree=1, gamma=0,\n",
       "              learning_rate=0.1, max_delta_step=0, max_depth=3,\n",
       "              min_child_weight=1, missing=None, n_estimators=100, n_jobs=1,\n",
       "              nthread=None, objective='multi:softprob', random_state=0,\n",
       "              reg_alpha=0, reg_lambda=1, scale_pos_weight=1, seed=None,\n",
       "              silent=None, subsample=1, verbosity=1)"
      ]
     },
     "execution_count": 18,
     "metadata": {},
     "output_type": "execute_result"
    }
   ],
   "source": [
    "# Implement XGBoost\n",
    "\n",
    "xgb_clf = XGBClassifier()\n",
    "xgb_clf.fit(X_train, y_train)"
   ]
  },
  {
   "cell_type": "code",
   "execution_count": 19,
   "metadata": {},
   "outputs": [
    {
     "name": "stdout",
     "output_type": "stream",
     "text": [
      "              precision    recall  f1-score   support\n",
      "\n",
      "           1       0.85      1.00      0.92      3436\n",
      "           2       0.75      0.01      0.03       403\n",
      "           3       0.56      0.02      0.04       235\n",
      "\n",
      "    accuracy                           0.85      4074\n",
      "   macro avg       0.72      0.35      0.33      4074\n",
      "weighted avg       0.82      0.85      0.78      4074\n",
      "\n",
      "0.845360824742268\n"
     ]
    }
   ],
   "source": [
    "# View its training performance\n",
    "\n",
    "y_pred_train = xgb_clf.predict(X_train)\n",
    "print(classification_report(y_train, y_pred_train))\n",
    "print(accuracy_score(y_train, y_pred_train))"
   ]
  },
  {
   "cell_type": "code",
   "execution_count": 20,
   "metadata": {},
   "outputs": [
    {
     "name": "stdout",
     "output_type": "stream",
     "text": [
      "              precision    recall  f1-score   support\n",
      "\n",
      "           1       0.85      0.99      0.91      1473\n",
      "           2       0.29      0.03      0.05       173\n",
      "           3       0.26      0.07      0.11       100\n",
      "\n",
      "    accuracy                           0.84      1746\n",
      "   macro avg       0.47      0.36      0.36      1746\n",
      "weighted avg       0.76      0.84      0.78      1746\n",
      "\n",
      "0.8379152348224513\n"
     ]
    }
   ],
   "source": [
    "# View its testing performance\n",
    "\n",
    "y_pred = svm_clf.predict(X_test)\n",
    "print(classification_report(y_test, y_pred))\n",
    "print(accuracy_score(y_test, y_pred))"
   ]
  },
  {
   "cell_type": "code",
   "execution_count": 21,
   "metadata": {},
   "outputs": [
    {
     "data": {
      "text/plain": [
       "GaussianNB(priors=None, var_smoothing=1e-09)"
      ]
     },
     "execution_count": 21,
     "metadata": {},
     "output_type": "execute_result"
    }
   ],
   "source": [
    "# Implement Naive Bayes Algorithn\n",
    "\n",
    "nb_clf = GaussianNB()\n",
    "nb_clf.fit(X_train, y_train)"
   ]
  },
  {
   "cell_type": "code",
   "execution_count": 22,
   "metadata": {},
   "outputs": [
    {
     "name": "stdout",
     "output_type": "stream",
     "text": [
      "              precision    recall  f1-score   support\n",
      "\n",
      "           1       0.84      1.00      0.92      3436\n",
      "           2       0.00      0.00      0.00       403\n",
      "           3       0.00      0.00      0.00       235\n",
      "\n",
      "    accuracy                           0.84      4074\n",
      "   macro avg       0.28      0.33      0.31      4074\n",
      "weighted avg       0.71      0.84      0.77      4074\n",
      "\n",
      "0.8433971526755032\n"
     ]
    },
    {
     "name": "stderr",
     "output_type": "stream",
     "text": [
      "/home/yaser/anaconda3/envs/MLPracs/lib/python3.7/site-packages/sklearn/metrics/_classification.py:1268: UndefinedMetricWarning: Precision and F-score are ill-defined and being set to 0.0 in labels with no predicted samples. Use `zero_division` parameter to control this behavior.\n",
      "  _warn_prf(average, modifier, msg_start, len(result))\n"
     ]
    }
   ],
   "source": [
    "# View its training performance\n",
    "\n",
    "y_pred_train = nb_clf.predict(X_train)\n",
    "print(classification_report(y_train, y_pred_train))\n",
    "print(accuracy_score(y_train, y_pred_train))"
   ]
  },
  {
   "cell_type": "code",
   "execution_count": 23,
   "metadata": {},
   "outputs": [
    {
     "name": "stdout",
     "output_type": "stream",
     "text": [
      "              precision    recall  f1-score   support\n",
      "\n",
      "           1       0.84      1.00      0.92      1473\n",
      "           2       0.00      0.00      0.00       173\n",
      "           3       0.00      0.00      0.00       100\n",
      "\n",
      "    accuracy                           0.84      1746\n",
      "   macro avg       0.28      0.33      0.31      1746\n",
      "weighted avg       0.71      0.84      0.77      1746\n",
      "\n",
      "0.8436426116838488\n"
     ]
    },
    {
     "name": "stderr",
     "output_type": "stream",
     "text": [
      "/home/yaser/anaconda3/envs/MLPracs/lib/python3.7/site-packages/sklearn/metrics/_classification.py:1268: UndefinedMetricWarning: Precision and F-score are ill-defined and being set to 0.0 in labels with no predicted samples. Use `zero_division` parameter to control this behavior.\n",
      "  _warn_prf(average, modifier, msg_start, len(result))\n"
     ]
    }
   ],
   "source": [
    "# View its training performance\n",
    "y_pred = nb_clf.predict(X_test)\n",
    "print(classification_report(y_test, y_pred))\n",
    "print(accuracy_score(y_test, y_pred))"
   ]
  },
  {
   "cell_type": "markdown",
   "metadata": {},
   "source": [
    "## Using Cluster Centroids for Under Sampling"
   ]
  },
  {
   "cell_type": "code",
   "execution_count": 24,
   "metadata": {
    "scrolled": true
   },
   "outputs": [
    {
     "name": "stderr",
     "output_type": "stream",
     "text": [
      "/home/yaser/anaconda3/envs/MLPracs/lib/python3.7/site-packages/imblearn/under_sampling/_prototype_generation/_cluster_centroids.py:161: ConvergenceWarning: Number of distinct clusters (343) found smaller than n_clusters (403). Possibly due to duplicate points in X.\n",
      "  self.estimator_.fit(X[y == target_class])\n",
      "/home/yaser/anaconda3/envs/MLPracs/lib/python3.7/site-packages/imblearn/under_sampling/_prototype_generation/_cluster_centroids.py:161: ConvergenceWarning: Number of distinct clusters (199) found smaller than n_clusters (235). Possibly due to duplicate points in X.\n",
      "  self.estimator_.fit(X[y == target_class])\n"
     ]
    },
    {
     "data": {
      "text/plain": [
       "[(1, 500), (2, 403), (3, 235)]"
      ]
     },
     "execution_count": 24,
     "metadata": {},
     "output_type": "execute_result"
    }
   ],
   "source": [
    "sm = ClusterCentroids(sampling_strategy={1:500,2:403,3:235}, random_state = 2)\n",
    "\n",
    "X_train_res, y_train_res = sm.fit_sample(X_train, y_train)\n",
    "\n",
    "unique_elements, counts_elements = np.unique(y_train_res, return_counts=True)\n",
    "list(zip(unique_elements, counts_elements))"
   ]
  },
  {
   "cell_type": "markdown",
   "metadata": {},
   "source": [
    "## Re-implementation of Algorithms on Under-Sampled Data"
   ]
  },
  {
   "cell_type": "code",
   "execution_count": 25,
   "metadata": {
    "scrolled": false
   },
   "outputs": [
    {
     "data": {
      "text/plain": [
       "DecisionTreeClassifier(ccp_alpha=0.0, class_weight=None, criterion='gini',\n",
       "                       max_depth=None, max_features=None, max_leaf_nodes=None,\n",
       "                       min_impurity_decrease=0.0, min_impurity_split=None,\n",
       "                       min_samples_leaf=1, min_samples_split=2,\n",
       "                       min_weight_fraction_leaf=0.0, presort='deprecated',\n",
       "                       random_state=None, splitter='best')"
      ]
     },
     "execution_count": 25,
     "metadata": {},
     "output_type": "execute_result"
    }
   ],
   "source": [
    "dt_clf = DecisionTreeClassifier()\n",
    "dt_clf.fit(X_train_res, y_train_res)"
   ]
  },
  {
   "cell_type": "code",
   "execution_count": 26,
   "metadata": {},
   "outputs": [
    {
     "name": "stdout",
     "output_type": "stream",
     "text": [
      "              precision    recall  f1-score   support\n",
      "\n",
      "           1       0.94      0.99      0.96       500\n",
      "           2       0.91      0.92      0.91       403\n",
      "           3       0.93      0.83      0.87       235\n",
      "\n",
      "    accuracy                           0.93      1138\n",
      "   macro avg       0.93      0.91      0.92      1138\n",
      "weighted avg       0.93      0.93      0.93      1138\n",
      "\n",
      "Accuracy:  0.9279437609841827\n"
     ]
    }
   ],
   "source": [
    "y_pred_train = dt_clf.predict(X_train_res)\n",
    "print(classification_report(y_train_res, y_pred_train))\n",
    "print('Accuracy: ', accuracy_score(y_train_res, y_pred_train))"
   ]
  },
  {
   "cell_type": "code",
   "execution_count": 27,
   "metadata": {},
   "outputs": [
    {
     "name": "stdout",
     "output_type": "stream",
     "text": [
      "              precision    recall  f1-score   support\n",
      "\n",
      "           1       0.92      0.45      0.61      1473\n",
      "           2       0.13      0.51      0.21       173\n",
      "           3       0.09      0.29      0.13       100\n",
      "\n",
      "    accuracy                           0.45      1746\n",
      "   macro avg       0.38      0.42      0.32      1746\n",
      "weighted avg       0.79      0.45      0.54      1746\n",
      "\n",
      "0.4513172966781214\n"
     ]
    }
   ],
   "source": [
    "y_pred = dt_clf.predict(X_test)\n",
    "print(classification_report(y_test, y_pred))\n",
    "print(accuracy_score(y_test, y_pred))"
   ]
  },
  {
   "cell_type": "code",
   "execution_count": 28,
   "metadata": {},
   "outputs": [
    {
     "data": {
      "text/plain": [
       "RandomForestClassifier(bootstrap=True, ccp_alpha=0.0, class_weight=None,\n",
       "                       criterion='gini', max_depth=None, max_features='auto',\n",
       "                       max_leaf_nodes=None, max_samples=None,\n",
       "                       min_impurity_decrease=0.0, min_impurity_split=None,\n",
       "                       min_samples_leaf=1, min_samples_split=2,\n",
       "                       min_weight_fraction_leaf=0.0, n_estimators=100,\n",
       "                       n_jobs=None, oob_score=False, random_state=None,\n",
       "                       verbose=0, warm_start=False)"
      ]
     },
     "execution_count": 28,
     "metadata": {},
     "output_type": "execute_result"
    }
   ],
   "source": [
    "rf_clf = RandomForestClassifier()\n",
    "rf_clf.fit(X_train_res, y_train_res)"
   ]
  },
  {
   "cell_type": "code",
   "execution_count": 29,
   "metadata": {},
   "outputs": [
    {
     "name": "stdout",
     "output_type": "stream",
     "text": [
      "              precision    recall  f1-score   support\n",
      "\n",
      "           1       0.97      0.96      0.96       500\n",
      "           2       0.92      0.90      0.91       403\n",
      "           3       0.86      0.90      0.88       235\n",
      "\n",
      "    accuracy                           0.93      1138\n",
      "   macro avg       0.92      0.92      0.92      1138\n",
      "weighted avg       0.93      0.93      0.93      1138\n",
      "\n",
      "Accuracy:  0.9279437609841827\n"
     ]
    }
   ],
   "source": [
    "y_pred_train = rf_clf.predict(X_train_res)\n",
    "print(classification_report(y_train_res, y_pred_train))\n",
    "print('Accuracy: ', accuracy_score(y_train_res, y_pred_train))"
   ]
  },
  {
   "cell_type": "code",
   "execution_count": 30,
   "metadata": {},
   "outputs": [
    {
     "name": "stdout",
     "output_type": "stream",
     "text": [
      "              precision    recall  f1-score   support\n",
      "\n",
      "           1       0.92      0.50      0.64      1473\n",
      "           2       0.14      0.48      0.22       173\n",
      "           3       0.10      0.34      0.15       100\n",
      "\n",
      "    accuracy                           0.49      1746\n",
      "   macro avg       0.38      0.44      0.34      1746\n",
      "weighted avg       0.79      0.49      0.57      1746\n",
      "\n",
      "0.4868270332187858\n"
     ]
    }
   ],
   "source": [
    "y_pred = rf_clf.predict(X_test)\n",
    "print(classification_report(y_test, y_pred))\n",
    "print(accuracy_score(y_test, y_pred))"
   ]
  },
  {
   "cell_type": "code",
   "execution_count": 31,
   "metadata": {},
   "outputs": [
    {
     "data": {
      "text/plain": [
       "RandomForestClassifier(bootstrap=True, ccp_alpha=0.0, class_weight=None,\n",
       "                       criterion='gini', max_depth=None, max_features='auto',\n",
       "                       max_leaf_nodes=None, max_samples=None,\n",
       "                       min_impurity_decrease=0.0, min_impurity_split=None,\n",
       "                       min_samples_leaf=1, min_samples_split=2,\n",
       "                       min_weight_fraction_leaf=0.0, n_estimators=100,\n",
       "                       n_jobs=None, oob_score=False, random_state=None,\n",
       "                       verbose=0, warm_start=False)"
      ]
     },
     "execution_count": 31,
     "metadata": {},
     "output_type": "execute_result"
    }
   ],
   "source": [
    "nb_clf = RandomForestClassifier()\n",
    "nb_clf.fit(X_train_res, y_train_res)"
   ]
  },
  {
   "cell_type": "code",
   "execution_count": 32,
   "metadata": {},
   "outputs": [
    {
     "name": "stdout",
     "output_type": "stream",
     "text": [
      "              precision    recall  f1-score   support\n",
      "\n",
      "           1       0.97      0.96      0.96       500\n",
      "           2       0.90      0.93      0.91       403\n",
      "           3       0.89      0.87      0.88       235\n",
      "\n",
      "    accuracy                           0.93      1138\n",
      "   macro avg       0.92      0.92      0.92      1138\n",
      "weighted avg       0.93      0.93      0.93      1138\n",
      "\n",
      "Accuracy:  0.9279437609841827\n"
     ]
    }
   ],
   "source": [
    "y_pred_train = nb_clf.predict(X_train_res)\n",
    "print(classification_report(y_train_res, y_pred_train))\n",
    "print('Accuracy: ', accuracy_score(y_train_res, y_pred_train))"
   ]
  },
  {
   "cell_type": "code",
   "execution_count": 33,
   "metadata": {},
   "outputs": [
    {
     "name": "stdout",
     "output_type": "stream",
     "text": [
      "              precision    recall  f1-score   support\n",
      "\n",
      "           1       0.92      0.50      0.64      1473\n",
      "           2       0.14      0.51      0.22       173\n",
      "           3       0.10      0.34      0.16       100\n",
      "\n",
      "    accuracy                           0.49      1746\n",
      "   macro avg       0.39      0.45      0.34      1746\n",
      "weighted avg       0.79      0.49      0.58      1746\n",
      "\n",
      "0.48911798396334477\n"
     ]
    }
   ],
   "source": [
    "y_pred = nb_clf.predict(X_test)\n",
    "print(classification_report(y_test, y_pred))\n",
    "print(accuracy_score(y_test, y_pred))"
   ]
  },
  {
   "cell_type": "markdown",
   "metadata": {},
   "source": [
    "##### Seems like we have to find some other technique to incresing the performance"
   ]
  }
 ],
 "metadata": {
  "kernelspec": {
   "display_name": "Python 3",
   "language": "python",
   "name": "python3"
  },
  "language_info": {
   "codemirror_mode": {
    "name": "ipython",
    "version": 3
   },
   "file_extension": ".py",
   "mimetype": "text/x-python",
   "name": "python",
   "nbconvert_exporter": "python",
   "pygments_lexer": "ipython3",
   "version": "3.7.5"
  }
 },
 "nbformat": 4,
 "nbformat_minor": 2
}
